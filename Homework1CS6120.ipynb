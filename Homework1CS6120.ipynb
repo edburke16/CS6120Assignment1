{
  "nbformat": 4,
  "nbformat_minor": 0,
  "metadata": {
    "colab": {
      "provenance": []
    },
    "kernelspec": {
      "name": "python3",
      "display_name": "Python 3"
    },
    "language_info": {
      "name": "python"
    }
  },
  "cells": [
    {
      "cell_type": "code",
      "execution_count": 12,
      "metadata": {
        "colab": {
          "base_uri": "https://localhost:8080/",
          "height": 470
        },
        "id": "ZJGJcGM0v_3F",
        "outputId": "dd99c4d7-f2a6-42ac-b799-a63edb84b54d"
      },
      "outputs": [
        {
          "name": "stdout",
          "output_type": "stream",
          "text": [
            "Enter a name to search: Dave Madigan\n"
          ]
        },
        {
          "output_type": "execute_result",
          "data": {
            "text/plain": [
              "<matplotlib.colorbar.Colorbar at 0x7e935efa47c0>"
            ]
          },
          "metadata": {},
          "execution_count": 12
        },
        {
          "output_type": "display_data",
          "data": {
            "text/plain": [
              "<Figure size 640x480 with 2 Axes>"
            ],
            "image/png": "[encoded data removed]"
          },
          "metadata": {}
        }
      ],
      "source": [
        "# CS6120 Assignment 1: Better Together\n",
        "# https://kwchurch.github.io/teaching/2023-fall/CS6120/assignments/assignment.01/Better_Together.html\n",
        "# By Edward Burke, 9/13/2023\n",
        "import json,requests\n",
        "import numpy as np\n",
        "from sklearn.metrics.pairwise import cosine_similarity\n",
        "import matplotlib\n",
        "import matplotlib.pyplot as plt\n",
        "\n",
        "# NOTE TO GRADER Occasionally one of the searches returns\n",
        "# \"{'message': 'Network error commun...h endpoint'}\",\n",
        "# and I can't really figure out why or reproduce it reliably.\n",
        "# I suspect that it is just caused by a random \"blip\" in my internet connection\n",
        "# This is a serverside issue, so I don't really have a way to address it,\n",
        "# but if something seems to be working then suddenly fails, try re-running it\n",
        "\n",
        "name = input('Enter a name to search: ')\n",
        "#name = 'Dave Madigan' # For testing, comment out otherwise\n",
        "\n",
        "# Build the URL to search the entered name\n",
        "jString = 'https://api.semanticscholar.org/graph/v1/author/search?query=' + name + '&fields=name,citationCount,papers,papers.citationCount'\n",
        "j = requests.get(jString).json()\n",
        "embeddings = np.zeros(shape=(768, 0))\n",
        "vector = np.array([])\n",
        "\n",
        "# Loop to build the data array\n",
        "for x in j['data']:\n",
        "  for y in x['papers']:\n",
        "    # Get vectors from paper IDs\n",
        "    pString = 'https://api.semanticscholar.org/graph/v1/paper/' + y.get('paperId') + '?fields=title,embedding,citationCount,title'\n",
        "    p = requests.get(pString).json()\n",
        "    embed = p['embedding']\n",
        "    # Some papers don't always return embeddings, this skips them\n",
        "    if embed is None:\n",
        "      continue\n",
        "    vector = np.asarray(embed['vector'])\n",
        "    embeddings = np.concatenate((vector.reshape(-1, 1), embeddings), axis=1)\n",
        "\n",
        "# Readys the final array for display\n",
        "similar = cosine_similarity(embeddings.T)\n",
        "\n",
        "# Plot output data\n",
        "plt.imshow(similar)\n",
        "plt.colorbar()"
      ]
    }
  ]
}